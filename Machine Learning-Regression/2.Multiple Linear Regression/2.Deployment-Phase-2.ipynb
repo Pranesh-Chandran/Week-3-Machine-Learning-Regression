{
 "cells": [
  {
   "cell_type": "code",
   "execution_count": 1,
   "id": "8a088fe7-8eb3-4c79-9f99-de820fc32f97",
   "metadata": {},
   "outputs": [],
   "source": [
    "import pickle"
   ]
  },
  {
   "cell_type": "code",
   "execution_count": 2,
   "id": "99a6a2df-a735-4381-9b2c-412908881096",
   "metadata": {},
   "outputs": [],
   "source": [
    "filename = \"Finalized_model_mul_linear.sav\""
   ]
  },
  {
   "cell_type": "code",
   "execution_count": 3,
   "id": "f32d7606-d69e-4fa7-ad96-a2a246bd4530",
   "metadata": {},
   "outputs": [],
   "source": [
    "load_model = pickle.load(open(filename, 'rb'))"
   ]
  },
  {
   "cell_type": "code",
   "execution_count": 4,
   "id": "83e543fc-3582-4c2d-8904-aa977ca5caf3",
   "metadata": {},
   "outputs": [
    {
     "name": "stderr",
     "output_type": "stream",
     "text": [
      "C:\\Users\\Pranesh\\anaconda3\\Lib\\site-packages\\sklearn\\utils\\validation.py:2739: UserWarning: X does not have valid feature names, but LinearRegression was fitted with feature names\n",
      "  warnings.warn(\n"
     ]
    }
   ],
   "source": [
    "r_result = load_model.predict([[12,5,3,4,7]])"
   ]
  },
  {
   "cell_type": "code",
   "execution_count": 5,
   "id": "d8e6300d-a945-4853-b0df-9c5cb27422df",
   "metadata": {},
   "outputs": [
    {
     "data": {
      "text/plain": [
       "array([[46399.31796239]])"
      ]
     },
     "execution_count": 5,
     "metadata": {},
     "output_type": "execute_result"
    }
   ],
   "source": [
    "r_result"
   ]
  },
  {
   "cell_type": "code",
   "execution_count": null,
   "id": "1a03e860-8ba5-433b-b49b-852602155067",
   "metadata": {},
   "outputs": [],
   "source": []
  }
 ],
 "metadata": {
  "kernelspec": {
   "display_name": "Python 3 (ipykernel)",
   "language": "python",
   "name": "python3"
  },
  "language_info": {
   "codemirror_mode": {
    "name": "ipython",
    "version": 3
   },
   "file_extension": ".py",
   "mimetype": "text/x-python",
   "name": "python",
   "nbconvert_exporter": "python",
   "pygments_lexer": "ipython3",
   "version": "3.13.5"
  }
 },
 "nbformat": 4,
 "nbformat_minor": 5
}
