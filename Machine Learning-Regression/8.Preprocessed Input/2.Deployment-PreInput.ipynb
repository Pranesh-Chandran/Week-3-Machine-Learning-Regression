{
 "cells": [
  {
   "cell_type": "code",
   "execution_count": 1,
   "id": "4ad8f6a1-8c60-4c11-bb2d-81c113772d8a",
   "metadata": {},
   "outputs": [],
   "source": [
    "import pickle\n",
    "import pandas as pd"
   ]
  },
  {
   "cell_type": "code",
   "execution_count": 2,
   "id": "34c374b4-e710-4ec9-9aa0-dcc17476d06e",
   "metadata": {},
   "outputs": [],
   "source": [
    "dataset = pd.read_csv(\"50_Startups.csv\")"
   ]
  },
  {
   "cell_type": "code",
   "execution_count": 3,
   "id": "3327ef6c-0f04-439b-9a61-34c25f6b2253",
   "metadata": {},
   "outputs": [],
   "source": [
    "dataset = pd.get_dummies(dataset,dtype = int,drop_first = True)\n",
    "independent = dataset[['R&D Spend', 'Administration', 'Marketing Spend','State_Florida', 'State_New York']]\n",
    "dependent = dataset[['Profit']]\n",
    "from sklearn.model_selection import train_test_split\n",
    "x_train,x_test,y_train,y_test = train_test_split(independent, dependent, test_size =0.30, random_state =0)"
   ]
  },
  {
   "cell_type": "code",
   "execution_count": 4,
   "id": "d85981c8-5491-4cf5-9371-05eb09f07057",
   "metadata": {},
   "outputs": [],
   "source": [
    "#Standardization\n",
    "from sklearn.preprocessing import StandardScaler\n",
    "sc = StandardScaler()\n",
    "x_train = sc.fit_transform(x_train)\n",
    "x_test = sc.transform(x_test)"
   ]
  },
  {
   "cell_type": "code",
   "execution_count": 5,
   "id": "15876ee8-354d-4e3f-99a8-4141c169f649",
   "metadata": {},
   "outputs": [
    {
     "name": "stderr",
     "output_type": "stream",
     "text": [
      "C:\\Users\\Pranesh\\anaconda3\\Lib\\site-packages\\sklearn\\utils\\validation.py:2739: UserWarning: X does not have valid feature names, but StandardScaler was fitted with feature names\n",
      "  warnings.warn(\n"
     ]
    }
   ],
   "source": [
    "preinput = sc.transform([[12,5,3,4,7]])"
   ]
  },
  {
   "cell_type": "code",
   "execution_count": 6,
   "id": "8e65d2de-0998-41ec-88e6-b0f44314754e",
   "metadata": {},
   "outputs": [
    {
     "data": {
      "text/plain": [
       "array([[-1.4939534 , -4.80398802, -1.5380688 ,  9.5       , 13.71844759]])"
      ]
     },
     "execution_count": 6,
     "metadata": {},
     "output_type": "execute_result"
    }
   ],
   "source": [
    "preinput"
   ]
  },
  {
   "cell_type": "code",
   "execution_count": 7,
   "id": "caa1515a-3280-47b6-adb2-9632092aaf2c",
   "metadata": {},
   "outputs": [],
   "source": [
    "filename = \"Finalized_model_PreInput.sav\""
   ]
  },
  {
   "cell_type": "code",
   "execution_count": 8,
   "id": "da1bcfe8-2fc3-48b1-8b29-a7824d3e41d3",
   "metadata": {},
   "outputs": [],
   "source": [
    "load_model = pickle.load(open(\"Finalized_model_PreInput.sav\",'rb'))"
   ]
  },
  {
   "cell_type": "code",
   "execution_count": 9,
   "id": "4f06999f-83b3-470f-afba-b36c6aaee1ab",
   "metadata": {},
   "outputs": [],
   "source": [
    "result = load_model.predict(preinput)"
   ]
  },
  {
   "cell_type": "code",
   "execution_count": 10,
   "id": "33a94c11-f5cb-4ede-91c6-c89c25f98ab1",
   "metadata": {},
   "outputs": [
    {
     "data": {
      "text/plain": [
       "array([[46399.31796241]])"
      ]
     },
     "execution_count": 10,
     "metadata": {},
     "output_type": "execute_result"
    }
   ],
   "source": [
    "result"
   ]
  },
  {
   "cell_type": "code",
   "execution_count": null,
   "id": "3b9cab6e-c0ee-42fa-b980-1a9c6a6240af",
   "metadata": {},
   "outputs": [],
   "source": []
  },
  {
   "cell_type": "code",
   "execution_count": null,
   "id": "14adcfc7-90ae-4490-adc0-140c29f1b5ed",
   "metadata": {},
   "outputs": [],
   "source": []
  }
 ],
 "metadata": {
  "kernelspec": {
   "display_name": "Python 3 (ipykernel)",
   "language": "python",
   "name": "python3"
  },
  "language_info": {
   "codemirror_mode": {
    "name": "ipython",
    "version": 3
   },
   "file_extension": ".py",
   "mimetype": "text/x-python",
   "name": "python",
   "nbconvert_exporter": "python",
   "pygments_lexer": "ipython3",
   "version": "3.13.5"
  }
 },
 "nbformat": 4,
 "nbformat_minor": 5
}
